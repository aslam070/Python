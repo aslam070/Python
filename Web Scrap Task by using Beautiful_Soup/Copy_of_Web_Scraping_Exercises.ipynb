{
  "cells": [
    {
      "cell_type": "markdown",
      "metadata": {
        "id": "4dAZkMC9joHP"
      },
      "source": [
        "# Web Scraping Exercises\n",
        "\n",
        "## Complete the Tasks Below"
      ]
    },
    {
      "cell_type": "markdown",
      "metadata": {
        "id": "dOsVFKuPjoHQ"
      },
      "source": [
        "**TASK: Import any libraries you think you'll need to scrape a website.**"
      ]
    },
    {
      "cell_type": "code",
      "execution_count": 4,
      "metadata": {
        "id": "mMgPcUxajoHR"
      },
      "outputs": [],
      "source": [
        "import requests"
      ]
    },
    {
      "cell_type": "code",
      "execution_count": 5,
      "metadata": {
        "id": "y3rIiDDhjoHT"
      },
      "outputs": [],
      "source": [
        "from  bs4 import BeautifulSoup"
      ]
    },
    {
      "cell_type": "markdown",
      "metadata": {
        "id": "ZKh5ImIBjoHU"
      },
      "source": [
        "**TASK: Use requests library and BeautifulSoup to connect to http://quotes.toscrape.com/ and get the HMTL text from the homepage.**"
      ]
    },
    {
      "cell_type": "code",
      "source": [
        "url='https://quotes.toscrape.com/'\n",
        "page = requests.get(url)\n",
        "soup=BeautifulSoup(page.text,'html.parser')"
      ],
      "metadata": {
        "id": "IaIUb4GZjw5l"
      },
      "execution_count": 6,
      "outputs": []
    },
    {
      "cell_type": "markdown",
      "metadata": {
        "id": "w_CSETNPjoHY"
      },
      "source": [
        "**TASK: Get the names of all the authors on the first page.**"
      ]
    },
    {
      "cell_type": "code",
      "execution_count": 22,
      "metadata": {
        "id": "Qd4QOPWBjoHZ",
        "colab": {
          "base_uri": "https://localhost:8080/"
        },
        "outputId": "efdc86dc-f050-4585-ee91-81e0d3e96c3f"
      },
      "outputs": [
        {
          "output_type": "stream",
          "name": "stdout",
          "text": [
            "Albert Einstein \n",
            "\n",
            "J.K. Rowling \n",
            "\n",
            "Albert Einstein \n",
            "\n",
            "Jane Austen \n",
            "\n",
            "Marilyn Monroe \n",
            "\n",
            "Albert Einstein \n",
            "\n",
            "André Gide \n",
            "\n",
            "Thomas A. Edison \n",
            "\n",
            "Eleanor Roosevelt \n",
            "\n",
            "Steve Martin \n",
            "\n"
          ]
        }
      ],
      "source": [
        "Aclass=soup.find_all('small',class_='author')\n",
        "for aclass in Aclass:\n",
        "  print(aclass.text,\"\\n\")\n"
      ]
    },
    {
      "cell_type": "markdown",
      "metadata": {
        "id": "Og54nkcXjoHa"
      },
      "source": [
        "**TASK: Create a list of all the quotes on the first page.**"
      ]
    },
    {
      "cell_type": "code",
      "execution_count": 21,
      "metadata": {
        "id": "hCtpUseejoHa",
        "colab": {
          "base_uri": "https://localhost:8080/"
        },
        "outputId": "49e6aff6-4305-402c-aac1-ea5a8ede9dac"
      },
      "outputs": [
        {
          "output_type": "stream",
          "name": "stdout",
          "text": [
            "“The world as we have created it is a process of our thinking. It cannot be changed without changing our thinking.” \n",
            "\n",
            "“It is our choices, Harry, that show what we truly are, far more than our abilities.” \n",
            "\n",
            "“There are only two ways to live your life. One is as though nothing is a miracle. The other is as though everything is a miracle.” \n",
            "\n",
            "“The person, be it gentleman or lady, who has not pleasure in a good novel, must be intolerably stupid.” \n",
            "\n",
            "“Imperfection is beauty, madness is genius and it's better to be absolutely ridiculous than absolutely boring.” \n",
            "\n",
            "“Try not to become a man of success. Rather become a man of value.” \n",
            "\n",
            "“It is better to be hated for what you are than to be loved for what you are not.” \n",
            "\n",
            "“I have not failed. I've just found 10,000 ways that won't work.” \n",
            "\n",
            "“A woman is like a tea bag; you never know how strong it is until it's in hot water.” \n",
            "\n",
            "“A day without sunshine is like, you know, night.” \n",
            "\n"
          ]
        }
      ],
      "source": [
        "quotes=soup.find_all('span',class_='text')\n",
        "for q in quotes:\n",
        "  print(q.text,'\\n')"
      ]
    },
    {
      "cell_type": "markdown",
      "metadata": {
        "id": "2QRcYnR2joHb"
      },
      "source": [
        "**TASK: Inspect the site and use Beautiful Soup to extract the top ten tags from the requests text shown on the top right from the home page (e.g Love,Inspirational,Life, etc...). HINT: Keep in mind there are also tags underneath each quote, try to find a class only present in the top right tags, perhaps check the span.**"
      ]
    },
    {
      "cell_type": "code",
      "execution_count": 20,
      "metadata": {
        "id": "0IisOxVHjoHb",
        "colab": {
          "base_uri": "https://localhost:8080/"
        },
        "outputId": "d7065f6c-06a8-4481-cc85-6468a692f45d"
      },
      "outputs": [
        {
          "output_type": "stream",
          "name": "stdout",
          "text": [
            "\n",
            "love\n",
            " \r\n",
            "\n",
            "inspirational\n",
            " \r\n",
            "\n",
            "life\n",
            " \r\n",
            "\n",
            "humor\n",
            " \r\n",
            "\n",
            "books\n",
            " \r\n",
            "\n",
            "reading\n",
            " \r\n",
            "\n",
            "friendship\n",
            " \r\n",
            "\n",
            "friends\n",
            " \r\n",
            "\n",
            "truth\n",
            " \r\n",
            "\n",
            "simile\n",
            " \r\n"
          ]
        }
      ],
      "source": [
        "tags=soup.find_all('span',class_='tag-item')\n",
        "for tag in tags:\n",
        "  print(tag.text,'\\r')"
      ]
    },
    {
      "cell_type": "markdown",
      "metadata": {
        "id": "rXtH8xV8joHc"
      },
      "source": [
        "**TASK: Notice how there is more than one page, and subsequent pages look like this http://quotes.toscrape.com/page/2/. Use what you know about for loops and string concatenation to loop through all the pages and get all the unique authors on the website. Keep in mind there are many ways to achieve this, also note that you will need to somehow figure out how to check that your loop is on the last page with quotes. For debugging purposes, I will let you know that there are only 10 pages, so the last page is http://quotes.toscrape.com/page/10/, but try to create a loop that is robust enough that it wouldn't matter to know the amount of pages beforehand, perhaps use try/except for this, its up to you!**"
      ]
    },
    {
      "cell_type": "code",
      "source": [
        "base_url='https://quotes.toscrape.com/page/'\n",
        "page = 1\n",
        "authors_all =  set ()\n",
        "\n",
        "while True:\n",
        "  url=base_url+str(page)+'/'\n",
        "  response=requests.get(url)\n",
        "\n",
        "  if response.status_code != 200:\n",
        "    break\n",
        "\n",
        "  soup=BeautifulSoup(response.text,'html.parser')\n",
        "  quotes=soup.find_all('div',class_='quote')\n",
        "\n",
        "\n",
        "\n",
        "  if not quotes:\n",
        "    break\n",
        "\n",
        "  for qoute in quotes:\n",
        "    authors=qoute.find('small',class_='author').text.strip()\n",
        "    authors_all.add(authors)\n",
        "\n",
        "\n",
        "  page+=1\n",
        "\n",
        "  # print unique Authors\n",
        "for author in sorted(authors_all):\n",
        "  print(f\"{author}\")"
      ],
      "metadata": {
        "colab": {
          "base_uri": "https://localhost:8080/"
        },
        "id": "Jl7KXN09QKpK",
        "outputId": "c34f443b-b048-42e2-da2e-d3c1f5e41784"
      },
      "execution_count": 57,
      "outputs": [
        {
          "output_type": "stream",
          "name": "stdout",
          "text": [
            "Albert Einstein\n",
            "Alexandre Dumas fils\n",
            "Alfred Tennyson\n",
            "Allen Saunders\n",
            "André Gide\n",
            "Ayn Rand\n",
            "Bob Marley\n",
            "C.S. Lewis\n",
            "Charles Bukowski\n",
            "Charles M. Schulz\n",
            "Douglas Adams\n",
            "Dr. Seuss\n",
            "E.E. Cummings\n",
            "Eleanor Roosevelt\n",
            "Elie Wiesel\n",
            "Ernest Hemingway\n",
            "Friedrich Nietzsche\n",
            "Garrison Keillor\n",
            "George Bernard Shaw\n",
            "George Carlin\n",
            "George Eliot\n",
            "George R.R. Martin\n",
            "Harper Lee\n",
            "Haruki Murakami\n",
            "Helen Keller\n",
            "J.D. Salinger\n",
            "J.K. Rowling\n",
            "J.M. Barrie\n",
            "J.R.R. Tolkien\n",
            "James Baldwin\n",
            "Jane Austen\n",
            "Jim Henson\n",
            "Jimi Hendrix\n",
            "John Lennon\n",
            "Jorge Luis Borges\n",
            "Khaled Hosseini\n",
            "Madeleine L'Engle\n",
            "Marilyn Monroe\n",
            "Mark Twain\n",
            "Martin Luther King Jr.\n",
            "Mother Teresa\n",
            "Pablo Neruda\n",
            "Ralph Waldo Emerson\n",
            "Stephenie Meyer\n",
            "Steve Martin\n",
            "Suzanne Collins\n",
            "Terry Pratchett\n",
            "Thomas A. Edison\n",
            "W.C. Fields\n",
            "William Nicholson\n"
          ]
        }
      ]
    },
    {
      "cell_type": "code",
      "source": [],
      "metadata": {
        "id": "lM1FVvj7pCRu"
      },
      "execution_count": null,
      "outputs": []
    }
  ],
  "metadata": {
    "kernelspec": {
      "display_name": "Python 3",
      "language": "python",
      "name": "python3"
    },
    "language_info": {
      "codemirror_mode": {
        "name": "ipython",
        "version": 3
      },
      "file_extension": ".py",
      "mimetype": "text/x-python",
      "name": "python",
      "nbconvert_exporter": "python",
      "pygments_lexer": "ipython3",
      "version": "3.8.5"
    },
    "colab": {
      "provenance": []
    }
  },
  "nbformat": 4,
  "nbformat_minor": 0
}